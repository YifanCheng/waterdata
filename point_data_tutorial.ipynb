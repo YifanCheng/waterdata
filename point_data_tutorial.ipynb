{
 "cells": [
  {
   "cell_type": "code",
   "execution_count": 1,
   "metadata": {},
   "outputs": [],
   "source": [
    "%matplotlib inline\n",
    "\n",
    "import pytz\n",
    "import requests\n",
    "import matplotlib.pyplot as plt\n",
    "import pandas as pd\n",
    "import folium\n",
    "\n",
    "import ulmo\n",
    "from ulmo.util import convert_datetime"
   ]
  },
  {
   "cell_type": "markdown",
   "metadata": {},
   "source": [
    "# Time series Part 1: Point timeseries data\n",
    "\n",
    "Credit: this notebook was adapted from https://github.com/waterhackweek/tsdata_access (Emilio Mayorga, Yifan Cheng)\n",
    "\n",
    "## Table of content\n",
    "* 1. Study domain\n",
    " - 1.1. Background information\n",
    " - 1.2. Research questions?\n",
    "* 2. Access USGS NWIS data using Ulmo\n",
    " - 2.1. Site selection\n",
    " - 2.2. Download data\n",
    "* 3. Site-specific data analysis\n",
    " - 3.1. Time Series Plot\n",
    " - 3.2. Data Selecting and Indexing\n",
    " - 3.3. Basic Statistics\n",
    " - 3.4. Data Aggregation (Groupby/Resample)"
   ]
  },
  {
   "cell_type": "markdown",
   "metadata": {},
   "source": [
    "# 1. Study domain\n",
    "## Yakima River Basin\n",
    "HUC8 code: 17030001"
   ]
  },
  {
   "cell_type": "code",
   "execution_count": 2,
   "metadata": {},
   "outputs": [],
   "source": [
    "# here we use geopandas to plot the study domain"
   ]
  },
  {
   "cell_type": "code",
   "execution_count": null,
   "metadata": {},
   "outputs": [],
   "source": []
  },
  {
   "cell_type": "code",
   "execution_count": null,
   "metadata": {},
   "outputs": [],
   "source": []
  },
  {
   "cell_type": "markdown",
   "metadata": {},
   "source": [
    "# 2. Access USGS NWIS data using Ulmo\n",
    "\n",
    "Currently, [ulmo](https://github.com/ulmo-dev/ulmo) supports the following datasets / services:\n",
    "\n",
    "* California Department of Water Resources Historical Data\n",
    "* Climate Prediction Center Weekly Drought\n",
    "* CUAHSI WaterOneFlow\n",
    "* Lower Colorado River Authority Hydromet and Water Quality Data\n",
    "* NASA Daymet weather data\n",
    "* National Climatic Data Center Climate Index Reference Sequential (CIRS)\n",
    "* National Climatic Data Center Global Historical Climate Network Daily\n",
    "* National Climatic Data Center Global Summary of the Day\n",
    "* Texas Weather Connection Daily Keetch-Byram Drought Index (KBDI)\n",
    "* US Army Corps of Engineers - Tulsa District Water Control\n",
    "* **USGS National Water Information System (NWIS)**\n",
    "* USGS Emergency Data Distribution Network services\n",
    "* USGS Earth Resources Observation Systems (EROS) services\n",
    "* USGS National Elevation Dataset (NED) services\n",
    "\n",
    "Upper Yakima HUC8 code: 17030001 "
   ]
  },
  {
   "cell_type": "code",
   "execution_count": 2,
   "metadata": {},
   "outputs": [],
   "source": [
    "HUC8code = '17030001'"
   ]
  },
  {
   "cell_type": "markdown",
   "metadata": {},
   "source": [
    "## 2.1. Collect all sites information within this river basin"
   ]
  },
  {
   "cell_type": "code",
   "execution_count": 3,
   "metadata": {},
   "outputs": [
    {
     "name": "stderr",
     "output_type": "stream",
     "text": [
      "making request for sites: http://waterservices.usgs.gov/nwis/dv/\n",
      "processing data from request: https://waterservices.usgs.gov/nwis/dv/?format=waterml&hucs=17030001\n",
      "making request for sites: http://waterservices.usgs.gov/nwis/iv/\n",
      "processing data from request: https://waterservices.usgs.gov/nwis/iv/?format=waterml&hucs=17030001\n"
     ]
    }
   ],
   "source": [
    "nwis_sites = ulmo.usgs.nwis.get_sites(huc=HUC8code, service=None)"
   ]
  },
  {
   "cell_type": "code",
   "execution_count": 4,
   "metadata": {},
   "outputs": [
    {
     "data": {
      "text/plain": [
       "(dict, 20)"
      ]
     },
     "execution_count": 4,
     "metadata": {},
     "output_type": "execute_result"
    }
   ],
   "source": [
    "type(nwis_sites), len(nwis_sites)"
   ]
  },
  {
   "cell_type": "code",
   "execution_count": 5,
   "metadata": {},
   "outputs": [
    {
     "data": {
      "text/plain": [
       "dict_keys(['12473980', '12473985', '12474500', '12475000', '12476000', '12477000', '12479000', '12479500', '12480000', '12480500', '12481000', '12481500', '12483500', '12483600', '12483800', '12484480', '12484500', '12485500', '12486500', '12487000'])"
      ]
     },
     "execution_count": 5,
     "metadata": {},
     "output_type": "execute_result"
    }
   ],
   "source": [
    "nwis_sites.keys()"
   ]
  },
  {
   "cell_type": "code",
   "execution_count": 35,
   "metadata": {},
   "outputs": [],
   "source": [
    "site_code = '12479500'"
   ]
  },
  {
   "cell_type": "code",
   "execution_count": 7,
   "metadata": {},
   "outputs": [
    {
     "data": {
      "text/plain": [
       "{'code': '12483500',\n",
       " 'name': 'MANASTASH CREEK NEAR ELLENSBURG, WA',\n",
       " 'network': 'NWIS',\n",
       " 'agency': 'USGS',\n",
       " 'location': {'latitude': '46.96651326',\n",
       "  'longitude': '-120.6956286',\n",
       "  'srs': 'EPSG:4326'},\n",
       " 'timezone_info': {'uses_dst': True,\n",
       "  'dst_tz': {'abbreviation': 'PDT', 'offset': '-07:00'},\n",
       "  'default_tz': {'abbreviation': 'PST', 'offset': '-08:00'}},\n",
       " 'county': '53037',\n",
       " 'huc': '17030001',\n",
       " 'site_type': 'ST',\n",
       " 'state_code': '53'}"
      ]
     },
     "execution_count": 7,
     "metadata": {},
     "output_type": "execute_result"
    }
   ],
   "source": [
    "nwis_sites[site_code]"
   ]
  },
  {
   "cell_type": "code",
   "execution_count": 8,
   "metadata": {},
   "outputs": [],
   "source": [
    "# pull out lat & lon from the nested dictionary\n",
    "for k, v in nwis_sites.items():\n",
    "    v['longitude'] = v['location']['longitude']\n",
    "    v['latitude'] = v['location']['latitude']"
   ]
  },
  {
   "cell_type": "code",
   "execution_count": 14,
   "metadata": {},
   "outputs": [
    {
     "data": {
      "text/html": [
       "<div>\n",
       "<style scoped>\n",
       "    .dataframe tbody tr th:only-of-type {\n",
       "        vertical-align: middle;\n",
       "    }\n",
       "\n",
       "    .dataframe tbody tr th {\n",
       "        vertical-align: top;\n",
       "    }\n",
       "\n",
       "    .dataframe thead th {\n",
       "        text-align: right;\n",
       "    }\n",
       "</style>\n",
       "<table border=\"1\" class=\"dataframe\">\n",
       "  <thead>\n",
       "    <tr style=\"text-align: right;\">\n",
       "      <th></th>\n",
       "      <th>12473980</th>\n",
       "      <th>12473985</th>\n",
       "      <th>12474500</th>\n",
       "      <th>12475000</th>\n",
       "      <th>12476000</th>\n",
       "      <th>12477000</th>\n",
       "      <th>12479000</th>\n",
       "      <th>12479500</th>\n",
       "      <th>12480000</th>\n",
       "      <th>12480500</th>\n",
       "      <th>12481000</th>\n",
       "      <th>12481500</th>\n",
       "      <th>12483500</th>\n",
       "      <th>12483600</th>\n",
       "      <th>12483800</th>\n",
       "      <th>12484480</th>\n",
       "      <th>12484500</th>\n",
       "      <th>12485500</th>\n",
       "      <th>12486500</th>\n",
       "      <th>12487000</th>\n",
       "    </tr>\n",
       "  </thead>\n",
       "  <tbody>\n",
       "    <tr>\n",
       "      <th>code</th>\n",
       "      <td>12473980</td>\n",
       "      <td>12473985</td>\n",
       "      <td>12474500</td>\n",
       "      <td>12475000</td>\n",
       "      <td>12476000</td>\n",
       "      <td>12477000</td>\n",
       "      <td>12479000</td>\n",
       "      <td>12479500</td>\n",
       "      <td>12480000</td>\n",
       "      <td>12480500</td>\n",
       "      <td>12481000</td>\n",
       "      <td>12481500</td>\n",
       "      <td>12483500</td>\n",
       "      <td>12483600</td>\n",
       "      <td>12483800</td>\n",
       "      <td>12484480</td>\n",
       "      <td>12484500</td>\n",
       "      <td>12485500</td>\n",
       "      <td>12486500</td>\n",
       "      <td>12487000</td>\n",
       "    </tr>\n",
       "    <tr>\n",
       "      <th>name</th>\n",
       "      <td>GOLD CREEK ABOVE KEECHELUS LAKE NEAR HYAK, WA</td>\n",
       "      <td>BOX CANYON CREEK NEAR HYAK, WA</td>\n",
       "      <td>YAKIMA RIVER NEAR MARTIN, WA</td>\n",
       "      <td>CABIN CREEK NEAR EASTON, WA</td>\n",
       "      <td>KACHESS RIVER NEAR EASTON, WA</td>\n",
       "      <td>YAKIMA RIVER AT EASTON, WA</td>\n",
       "      <td>CLE ELUM RIVER NEAR ROSLYN, WA</td>\n",
       "      <td>YAKIMA RIVER AT CLE ELUM, WA</td>\n",
       "      <td>TEANAWAY RIVER BELOW FORKS NEAR CLE ELUM, WA</td>\n",
       "      <td>TEANAWAY RIVER NEAR CLE ELUM, WA</td>\n",
       "      <td>SWAUK CREEK NEAR CLE ELUM, WA</td>\n",
       "      <td>CASCADE CANAL NEAR ELLENSBURG, WA</td>\n",
       "      <td>MANASTASH CREEK NEAR ELLENSBURG, WA</td>\n",
       "      <td>WILSON CREEK NEAR ELLENSBURG, WA</td>\n",
       "      <td>NANEUM CREEK NEAR ELLENSBURG, WA</td>\n",
       "      <td>CHERRY CREEK AT THRALL, WA</td>\n",
       "      <td>YAKIMA RIVER AT UMTANUM, WA</td>\n",
       "      <td>SELAH-MOXEE CANAL NEAR SELAH, WA</td>\n",
       "      <td>TAYLOR DITCH NEAR SELAH, WA</td>\n",
       "      <td>YAKIMA RIVER AT SELAH GAP NEAR NORTH YAKIMA, WA</td>\n",
       "    </tr>\n",
       "    <tr>\n",
       "      <th>network</th>\n",
       "      <td>NWIS</td>\n",
       "      <td>NWIS</td>\n",
       "      <td>NWIS</td>\n",
       "      <td>NWIS</td>\n",
       "      <td>NWIS</td>\n",
       "      <td>NWIS</td>\n",
       "      <td>NWIS</td>\n",
       "      <td>NWIS</td>\n",
       "      <td>NWIS</td>\n",
       "      <td>NWIS</td>\n",
       "      <td>NWIS</td>\n",
       "      <td>NWIS</td>\n",
       "      <td>NWIS</td>\n",
       "      <td>NWIS</td>\n",
       "      <td>NWIS</td>\n",
       "      <td>NWIS</td>\n",
       "      <td>NWIS</td>\n",
       "      <td>NWIS</td>\n",
       "      <td>NWIS</td>\n",
       "      <td>NWIS</td>\n",
       "    </tr>\n",
       "    <tr>\n",
       "      <th>agency</th>\n",
       "      <td>USGS</td>\n",
       "      <td>USGS</td>\n",
       "      <td>USGS</td>\n",
       "      <td>USGS</td>\n",
       "      <td>USGS</td>\n",
       "      <td>USGS</td>\n",
       "      <td>USGS</td>\n",
       "      <td>USGS</td>\n",
       "      <td>USGS</td>\n",
       "      <td>USGS</td>\n",
       "      <td>USGS</td>\n",
       "      <td>USGS</td>\n",
       "      <td>USGS</td>\n",
       "      <td>USGS</td>\n",
       "      <td>USGS</td>\n",
       "      <td>USGS</td>\n",
       "      <td>USGS</td>\n",
       "      <td>USGS</td>\n",
       "      <td>USGS</td>\n",
       "      <td>USGS</td>\n",
       "    </tr>\n",
       "    <tr>\n",
       "      <th>location</th>\n",
       "      <td>{'latitude': '47.3917792', 'longitude': '-121....</td>\n",
       "      <td>{'latitude': '47.35900289', 'longitude': '-121...</td>\n",
       "      <td>{'latitude': '47.32122417', 'longitude': '-121...</td>\n",
       "      <td>{'latitude': '47.2415036', 'longitude': '-121....</td>\n",
       "      <td>{'latitude': '47.2612262', 'longitude': '-121....</td>\n",
       "      <td>{'latitude': '47.2387267', 'longitude': '-121....</td>\n",
       "      <td>{'latitude': '47.24456209', 'longitude': '-121...</td>\n",
       "      <td>{'latitude': '47.19123078', 'longitude': '-120...</td>\n",
       "      <td>{'latitude': '47.2465092', 'longitude': '-120....</td>\n",
       "      <td>{'latitude': '47.19567717', 'longitude': '-120...</td>\n",
       "      <td>{'latitude': '47.1637336', 'longitude': '-120....</td>\n",
       "      <td>{'latitude': '47.1095676', 'longitude': '-120....</td>\n",
       "      <td>{'latitude': '46.96651326', 'longitude': '-120...</td>\n",
       "      <td>{'latitude': '47.1262365', 'longitude': '-120....</td>\n",
       "      <td>{'latitude': '47.1267922', 'longitude': '-120....</td>\n",
       "      <td>{'latitude': '46.9259594', 'longitude': '-120....</td>\n",
       "      <td>{'latitude': '46.8626264', 'longitude': '-120....</td>\n",
       "      <td>{'latitude': '46.6892934', 'longitude': '-120....</td>\n",
       "      <td>{'latitude': '46.6795711', 'longitude': '-120....</td>\n",
       "      <td>{'latitude': '46.63095987', 'longitude': '-120...</td>\n",
       "    </tr>\n",
       "  </tbody>\n",
       "</table>\n",
       "</div>"
      ],
      "text/plain": [
       "                                                   12473980  \\\n",
       "code                                               12473980   \n",
       "name          GOLD CREEK ABOVE KEECHELUS LAKE NEAR HYAK, WA   \n",
       "network                                                NWIS   \n",
       "agency                                                 USGS   \n",
       "location  {'latitude': '47.3917792', 'longitude': '-121....   \n",
       "\n",
       "                                                   12473985  \\\n",
       "code                                               12473985   \n",
       "name                         BOX CANYON CREEK NEAR HYAK, WA   \n",
       "network                                                NWIS   \n",
       "agency                                                 USGS   \n",
       "location  {'latitude': '47.35900289', 'longitude': '-121...   \n",
       "\n",
       "                                                   12474500  \\\n",
       "code                                               12474500   \n",
       "name                           YAKIMA RIVER NEAR MARTIN, WA   \n",
       "network                                                NWIS   \n",
       "agency                                                 USGS   \n",
       "location  {'latitude': '47.32122417', 'longitude': '-121...   \n",
       "\n",
       "                                                   12475000  \\\n",
       "code                                               12475000   \n",
       "name                            CABIN CREEK NEAR EASTON, WA   \n",
       "network                                                NWIS   \n",
       "agency                                                 USGS   \n",
       "location  {'latitude': '47.2415036', 'longitude': '-121....   \n",
       "\n",
       "                                                   12476000  \\\n",
       "code                                               12476000   \n",
       "name                          KACHESS RIVER NEAR EASTON, WA   \n",
       "network                                                NWIS   \n",
       "agency                                                 USGS   \n",
       "location  {'latitude': '47.2612262', 'longitude': '-121....   \n",
       "\n",
       "                                                   12477000  \\\n",
       "code                                               12477000   \n",
       "name                             YAKIMA RIVER AT EASTON, WA   \n",
       "network                                                NWIS   \n",
       "agency                                                 USGS   \n",
       "location  {'latitude': '47.2387267', 'longitude': '-121....   \n",
       "\n",
       "                                                   12479000  \\\n",
       "code                                               12479000   \n",
       "name                         CLE ELUM RIVER NEAR ROSLYN, WA   \n",
       "network                                                NWIS   \n",
       "agency                                                 USGS   \n",
       "location  {'latitude': '47.24456209', 'longitude': '-121...   \n",
       "\n",
       "                                                   12479500  \\\n",
       "code                                               12479500   \n",
       "name                           YAKIMA RIVER AT CLE ELUM, WA   \n",
       "network                                                NWIS   \n",
       "agency                                                 USGS   \n",
       "location  {'latitude': '47.19123078', 'longitude': '-120...   \n",
       "\n",
       "                                                   12480000  \\\n",
       "code                                               12480000   \n",
       "name           TEANAWAY RIVER BELOW FORKS NEAR CLE ELUM, WA   \n",
       "network                                                NWIS   \n",
       "agency                                                 USGS   \n",
       "location  {'latitude': '47.2465092', 'longitude': '-120....   \n",
       "\n",
       "                                                   12480500  \\\n",
       "code                                               12480500   \n",
       "name                       TEANAWAY RIVER NEAR CLE ELUM, WA   \n",
       "network                                                NWIS   \n",
       "agency                                                 USGS   \n",
       "location  {'latitude': '47.19567717', 'longitude': '-120...   \n",
       "\n",
       "                                                   12481000  \\\n",
       "code                                               12481000   \n",
       "name                          SWAUK CREEK NEAR CLE ELUM, WA   \n",
       "network                                                NWIS   \n",
       "agency                                                 USGS   \n",
       "location  {'latitude': '47.1637336', 'longitude': '-120....   \n",
       "\n",
       "                                                   12481500  \\\n",
       "code                                               12481500   \n",
       "name                      CASCADE CANAL NEAR ELLENSBURG, WA   \n",
       "network                                                NWIS   \n",
       "agency                                                 USGS   \n",
       "location  {'latitude': '47.1095676', 'longitude': '-120....   \n",
       "\n",
       "                                                   12483500  \\\n",
       "code                                               12483500   \n",
       "name                    MANASTASH CREEK NEAR ELLENSBURG, WA   \n",
       "network                                                NWIS   \n",
       "agency                                                 USGS   \n",
       "location  {'latitude': '46.96651326', 'longitude': '-120...   \n",
       "\n",
       "                                                   12483600  \\\n",
       "code                                               12483600   \n",
       "name                       WILSON CREEK NEAR ELLENSBURG, WA   \n",
       "network                                                NWIS   \n",
       "agency                                                 USGS   \n",
       "location  {'latitude': '47.1262365', 'longitude': '-120....   \n",
       "\n",
       "                                                   12483800  \\\n",
       "code                                               12483800   \n",
       "name                       NANEUM CREEK NEAR ELLENSBURG, WA   \n",
       "network                                                NWIS   \n",
       "agency                                                 USGS   \n",
       "location  {'latitude': '47.1267922', 'longitude': '-120....   \n",
       "\n",
       "                                                   12484480  \\\n",
       "code                                               12484480   \n",
       "name                             CHERRY CREEK AT THRALL, WA   \n",
       "network                                                NWIS   \n",
       "agency                                                 USGS   \n",
       "location  {'latitude': '46.9259594', 'longitude': '-120....   \n",
       "\n",
       "                                                   12484500  \\\n",
       "code                                               12484500   \n",
       "name                            YAKIMA RIVER AT UMTANUM, WA   \n",
       "network                                                NWIS   \n",
       "agency                                                 USGS   \n",
       "location  {'latitude': '46.8626264', 'longitude': '-120....   \n",
       "\n",
       "                                                   12485500  \\\n",
       "code                                               12485500   \n",
       "name                       SELAH-MOXEE CANAL NEAR SELAH, WA   \n",
       "network                                                NWIS   \n",
       "agency                                                 USGS   \n",
       "location  {'latitude': '46.6892934', 'longitude': '-120....   \n",
       "\n",
       "                                                   12486500  \\\n",
       "code                                               12486500   \n",
       "name                            TAYLOR DITCH NEAR SELAH, WA   \n",
       "network                                                NWIS   \n",
       "agency                                                 USGS   \n",
       "location  {'latitude': '46.6795711', 'longitude': '-120....   \n",
       "\n",
       "                                                   12487000  \n",
       "code                                               12487000  \n",
       "name        YAKIMA RIVER AT SELAH GAP NEAR NORTH YAKIMA, WA  \n",
       "network                                                NWIS  \n",
       "agency                                                 USGS  \n",
       "location  {'latitude': '46.63095987', 'longitude': '-120...  "
      ]
     },
     "execution_count": 14,
     "metadata": {},
     "output_type": "execute_result"
    }
   ],
   "source": [
    "nwis_sites_df = pd.DataFrame(nwis_sites)\n",
    "nwis_sites_df.head()"
   ]
  },
  {
   "cell_type": "code",
   "execution_count": 15,
   "metadata": {},
   "outputs": [
    {
     "data": {
      "text/html": [
       "<div>\n",
       "<style scoped>\n",
       "    .dataframe tbody tr th:only-of-type {\n",
       "        vertical-align: middle;\n",
       "    }\n",
       "\n",
       "    .dataframe tbody tr th {\n",
       "        vertical-align: top;\n",
       "    }\n",
       "\n",
       "    .dataframe thead th {\n",
       "        text-align: right;\n",
       "    }\n",
       "</style>\n",
       "<table border=\"1\" class=\"dataframe\">\n",
       "  <thead>\n",
       "    <tr style=\"text-align: right;\">\n",
       "      <th></th>\n",
       "      <th>code</th>\n",
       "      <th>name</th>\n",
       "      <th>network</th>\n",
       "      <th>agency</th>\n",
       "      <th>location</th>\n",
       "      <th>timezone_info</th>\n",
       "      <th>county</th>\n",
       "      <th>huc</th>\n",
       "      <th>site_type</th>\n",
       "      <th>state_code</th>\n",
       "      <th>longitude</th>\n",
       "      <th>latitude</th>\n",
       "    </tr>\n",
       "  </thead>\n",
       "  <tbody>\n",
       "    <tr>\n",
       "      <th>12473980</th>\n",
       "      <td>12473980</td>\n",
       "      <td>GOLD CREEK ABOVE KEECHELUS LAKE NEAR HYAK, WA</td>\n",
       "      <td>NWIS</td>\n",
       "      <td>USGS</td>\n",
       "      <td>{'latitude': '47.3917792', 'longitude': '-121....</td>\n",
       "      <td>{'uses_dst': True, 'dst_tz': {'abbreviation': ...</td>\n",
       "      <td>53037</td>\n",
       "      <td>17030001</td>\n",
       "      <td>ST</td>\n",
       "      <td>53</td>\n",
       "      <td>-121.381483</td>\n",
       "      <td>47.3917792</td>\n",
       "    </tr>\n",
       "    <tr>\n",
       "      <th>12473985</th>\n",
       "      <td>12473985</td>\n",
       "      <td>BOX CANYON CREEK NEAR HYAK, WA</td>\n",
       "      <td>NWIS</td>\n",
       "      <td>USGS</td>\n",
       "      <td>{'latitude': '47.35900289', 'longitude': '-121...</td>\n",
       "      <td>{'uses_dst': True, 'dst_tz': {'abbreviation': ...</td>\n",
       "      <td>53037</td>\n",
       "      <td>17030001</td>\n",
       "      <td>ST</td>\n",
       "      <td>53</td>\n",
       "      <td>-121.2456489</td>\n",
       "      <td>47.35900289</td>\n",
       "    </tr>\n",
       "  </tbody>\n",
       "</table>\n",
       "</div>"
      ],
      "text/plain": [
       "              code                                           name network  \\\n",
       "12473980  12473980  GOLD CREEK ABOVE KEECHELUS LAKE NEAR HYAK, WA    NWIS   \n",
       "12473985  12473985                 BOX CANYON CREEK NEAR HYAK, WA    NWIS   \n",
       "\n",
       "         agency                                           location  \\\n",
       "12473980   USGS  {'latitude': '47.3917792', 'longitude': '-121....   \n",
       "12473985   USGS  {'latitude': '47.35900289', 'longitude': '-121...   \n",
       "\n",
       "                                              timezone_info county       huc  \\\n",
       "12473980  {'uses_dst': True, 'dst_tz': {'abbreviation': ...  53037  17030001   \n",
       "12473985  {'uses_dst': True, 'dst_tz': {'abbreviation': ...  53037  17030001   \n",
       "\n",
       "         site_type state_code     longitude     latitude  \n",
       "12473980        ST         53   -121.381483   47.3917792  \n",
       "12473985        ST         53  -121.2456489  47.35900289  "
      ]
     },
     "execution_count": 15,
     "metadata": {},
     "output_type": "execute_result"
    }
   ],
   "source": [
    "# Let's flip (transpose) the dataframe, so each row is a site\n",
    "nwis_sites_df = nwis_sites_df.T\n",
    "nwis_sites_df.head(2)"
   ]
  },
  {
   "cell_type": "code",
   "execution_count": 16,
   "metadata": {},
   "outputs": [
    {
     "data": {
      "text/html": [
       "<div>\n",
       "<style scoped>\n",
       "    .dataframe tbody tr th:only-of-type {\n",
       "        vertical-align: middle;\n",
       "    }\n",
       "\n",
       "    .dataframe tbody tr th {\n",
       "        vertical-align: top;\n",
       "    }\n",
       "\n",
       "    .dataframe thead th {\n",
       "        text-align: right;\n",
       "    }\n",
       "</style>\n",
       "<table border=\"1\" class=\"dataframe\">\n",
       "  <thead>\n",
       "    <tr style=\"text-align: right;\">\n",
       "      <th></th>\n",
       "      <th>code</th>\n",
       "      <th>name</th>\n",
       "      <th>network</th>\n",
       "      <th>agency</th>\n",
       "      <th>county</th>\n",
       "      <th>huc</th>\n",
       "      <th>site_type</th>\n",
       "      <th>state_code</th>\n",
       "      <th>longitude</th>\n",
       "      <th>latitude</th>\n",
       "    </tr>\n",
       "  </thead>\n",
       "  <tbody>\n",
       "    <tr>\n",
       "      <th>12473980</th>\n",
       "      <td>12473980</td>\n",
       "      <td>GOLD CREEK ABOVE KEECHELUS LAKE NEAR HYAK, WA</td>\n",
       "      <td>NWIS</td>\n",
       "      <td>USGS</td>\n",
       "      <td>53037</td>\n",
       "      <td>17030001</td>\n",
       "      <td>ST</td>\n",
       "      <td>53</td>\n",
       "      <td>-121.381483</td>\n",
       "      <td>47.391779</td>\n",
       "    </tr>\n",
       "    <tr>\n",
       "      <th>12473985</th>\n",
       "      <td>12473985</td>\n",
       "      <td>BOX CANYON CREEK NEAR HYAK, WA</td>\n",
       "      <td>NWIS</td>\n",
       "      <td>USGS</td>\n",
       "      <td>53037</td>\n",
       "      <td>17030001</td>\n",
       "      <td>ST</td>\n",
       "      <td>53</td>\n",
       "      <td>-121.245649</td>\n",
       "      <td>47.359003</td>\n",
       "    </tr>\n",
       "  </tbody>\n",
       "</table>\n",
       "</div>"
      ],
      "text/plain": [
       "              code                                           name network  \\\n",
       "12473980  12473980  GOLD CREEK ABOVE KEECHELUS LAKE NEAR HYAK, WA    NWIS   \n",
       "12473985  12473985                 BOX CANYON CREEK NEAR HYAK, WA    NWIS   \n",
       "\n",
       "         agency county       huc site_type state_code   longitude   latitude  \n",
       "12473980   USGS  53037  17030001        ST         53 -121.381483  47.391779  \n",
       "12473985   USGS  53037  17030001        ST         53 -121.245649  47.359003  "
      ]
     },
     "execution_count": 16,
     "metadata": {},
     "output_type": "execute_result"
    }
   ],
   "source": [
    "# Final cleanups, improvements\n",
    "nwis_sites_df['latitude'] = nwis_sites_df['latitude'].astype(float)\n",
    "nwis_sites_df['longitude'] = nwis_sites_df['longitude'].astype(float)\n",
    "nwis_sites_df.drop(columns=['location', 'timezone_info'], inplace=True)\n",
    "nwis_sites_df.head(2)"
   ]
  },
  {
   "cell_type": "code",
   "execution_count": 17,
   "metadata": {},
   "outputs": [
    {
     "data": {
      "text/plain": [
       "ST        17\n",
       "ST-CA      2\n",
       "ST-DCH     1\n",
       "Name: site_type, dtype: int64"
      ]
     },
     "execution_count": 17,
     "metadata": {},
     "output_type": "execute_result"
    }
   ],
   "source": [
    "nwis_sites_df['site_type'].value_counts()"
   ]
  },
  {
   "cell_type": "markdown",
   "metadata": {},
   "source": [
    "Site type codes are defined at http://help.waterdata.usgs.gov/site_tp_cd. For our purposes:\n",
    "\n",
    "* ST: Stream\n",
    "* ST-CA: Canel\n",
    "* ST-DCH: Ditch\n",
    "\n",
    "We could also have issued the nwis.get_sites query by passing a site_type value or list, like this:\n",
    "\n",
    "nwis_sits = ulmo.usgs.nwis.get_sites(huc=HUC8code, site_type=['ST'], service=None)"
   ]
  },
  {
   "cell_type": "markdown",
   "metadata": {},
   "source": [
    "## 2.2. Let's map the sites on an interactive map, with Folium"
   ]
  },
  {
   "cell_type": "code",
   "execution_count": 18,
   "metadata": {},
   "outputs": [
    {
     "data": {
      "text/html": [
       "<div style=\"width:100%;\"><div style=\"position:relative;width:100%;height:0;padding-bottom:60%;\"><iframe src=\"about:blank\" style=\"position:absolute;width:100%;height:100%;left:0;top:0;border:none !important;\" data-html=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 onload=\"this.contentDocument.open();this.contentDocument.write(atob(this.getAttribute('data-html')));this.contentDocument.close();\" allowfullscreen webkitallowfullscreen mozallowfullscreen></iframe></div></div>"
      ],
      "text/plain": [
       "<folium.folium.Map at 0x7fb9531c61d0>"
      ]
     },
     "execution_count": 18,
     "metadata": {},
     "output_type": "execute_result"
    }
   ],
   "source": [
    "m = folium.Map(tiles='Stamen terrain')\n",
    "\n",
    "for idx, row in nwis_sites_df.iterrows():\n",
    "    folium.Marker(location=[row['latitude'], row['longitude']], \n",
    "                  icon=folium.Icon(color='blue' if row['site_type'] == 'ST' else 'gray'),\n",
    "                  popup=\"<b>{0}</b> {1}. Site type: {2}. {3}\".format(\n",
    "                      row['code'], row['name'], row['site_type'], row['network'])\n",
    "                 ).add_to(m)\n",
    "    \n",
    "# Set the map extent (bounds) to the extent of the sites\n",
    "m.fit_bounds(m.get_bounds())\n",
    "\n",
    "m"
   ]
  },
  {
   "cell_type": "markdown",
   "metadata": {},
   "source": [
    "## 2.3. Download USGS data"
   ]
  },
  {
   "cell_type": "markdown",
   "metadata": {},
   "source": [
    "Use functions from ulmo: ulmo.usgs.nwis.get_site_data()\n",
    "   * site_code: USGS site number (str)\n",
    "   * parameter_code: Variable code (str) ([Link to all USGS parameter code](https://help.waterdata.usgs.gov/codes-and-parameters/parameters), [Link to USGS parameters commonly used in hydrology](https://help.waterdata.usgs.gov/parameter_cd?group_cd=PHY))\n",
    "        * 00010: Temperature, water, degrees Celsius\n",
    "        * 00011: Temperature, water, degrees Fahrenheit\n",
    "        * 00060: Discharge, cubic feet per second\n",
    "   * statistic_code: Statistic code (str) ([Link to all USGS statistic code](https://help.waterdata.usgs.gov/stat_code))\n",
    "        * 00001: Maximum\n",
    "        * 00002: Minimum\n",
    "        * 00003: Mean"
   ]
  },
  {
   "cell_type": "code",
   "execution_count": 50,
   "metadata": {},
   "outputs": [
    {
     "name": "stderr",
     "output_type": "stream",
     "text": [
      "processing data from request: https://waterservices.usgs.gov/nwis/dv/?format=waterml&site=12479500&parameterCd=00060&statCd=00003&startDT=1950-01-01&endDT=1980-12-31\n"
     ]
    }
   ],
   "source": [
    "# download USGS data using ulmo\n",
    "param_code = '00060'\n",
    "stat_code  = '00003'\n",
    "start_date = '1950-01-01'\n",
    "end_date   = '1980-12-31'\n",
    "site_data = ulmo.usgs.nwis.get_site_data(site_code=site_code,parameter_code=param_code, service='daily',\n",
    "                                         statistic_code=stat_code, start=start_date,end=end_date,\n",
    "                                         methods=\"all\")"
   ]
  },
  {
   "cell_type": "code",
   "execution_count": 51,
   "metadata": {},
   "outputs": [],
   "source": [
    "# convert data format to Pandas Dataframe\n",
    "\n",
    "df = pd.DataFrame(site_data['00060'+':'+\n",
    "                            '00003']['values'])         # create dataframe\n",
    "df[site_code] = df['value'].astype(float)       # convert ['value'] to float\n",
    "df['date'] = pd.to_datetime(df['datetime'])             # convert ['datetime'] format to date and add as a new column\n",
    "df.set_index(['date'],inplace=True)                     # set date to be index\n",
    "df = df.drop(['datetime','value','qualifiers'],axis=1)  # delete column ['datetime']"
   ]
  },
  {
   "cell_type": "code",
   "execution_count": 52,
   "metadata": {},
   "outputs": [
    {
     "data": {
      "text/html": [
       "<div>\n",
       "<style scoped>\n",
       "    .dataframe tbody tr th:only-of-type {\n",
       "        vertical-align: middle;\n",
       "    }\n",
       "\n",
       "    .dataframe tbody tr th {\n",
       "        vertical-align: top;\n",
       "    }\n",
       "\n",
       "    .dataframe thead th {\n",
       "        text-align: right;\n",
       "    }\n",
       "</style>\n",
       "<table border=\"1\" class=\"dataframe\">\n",
       "  <thead>\n",
       "    <tr style=\"text-align: right;\">\n",
       "      <th></th>\n",
       "      <th>12479500</th>\n",
       "    </tr>\n",
       "    <tr>\n",
       "      <th>date</th>\n",
       "      <th></th>\n",
       "    </tr>\n",
       "  </thead>\n",
       "  <tbody>\n",
       "    <tr>\n",
       "      <th>1950-01-01</th>\n",
       "      <td>886.0</td>\n",
       "    </tr>\n",
       "    <tr>\n",
       "      <th>1950-01-02</th>\n",
       "      <td>807.0</td>\n",
       "    </tr>\n",
       "    <tr>\n",
       "      <th>1950-01-03</th>\n",
       "      <td>737.0</td>\n",
       "    </tr>\n",
       "    <tr>\n",
       "      <th>1950-01-04</th>\n",
       "      <td>807.0</td>\n",
       "    </tr>\n",
       "    <tr>\n",
       "      <th>1950-01-05</th>\n",
       "      <td>835.0</td>\n",
       "    </tr>\n",
       "    <tr>\n",
       "      <th>...</th>\n",
       "      <td>...</td>\n",
       "    </tr>\n",
       "    <tr>\n",
       "      <th>1978-09-25</th>\n",
       "      <td>1570.0</td>\n",
       "    </tr>\n",
       "    <tr>\n",
       "      <th>1978-09-26</th>\n",
       "      <td>1500.0</td>\n",
       "    </tr>\n",
       "    <tr>\n",
       "      <th>1978-09-27</th>\n",
       "      <td>1590.0</td>\n",
       "    </tr>\n",
       "    <tr>\n",
       "      <th>1978-09-28</th>\n",
       "      <td>1500.0</td>\n",
       "    </tr>\n",
       "    <tr>\n",
       "      <th>1978-09-29</th>\n",
       "      <td>1420.0</td>\n",
       "    </tr>\n",
       "  </tbody>\n",
       "</table>\n",
       "<p>10499 rows × 1 columns</p>\n",
       "</div>"
      ],
      "text/plain": [
       "            12479500\n",
       "date                \n",
       "1950-01-01     886.0\n",
       "1950-01-02     807.0\n",
       "1950-01-03     737.0\n",
       "1950-01-04     807.0\n",
       "1950-01-05     835.0\n",
       "...              ...\n",
       "1978-09-25    1570.0\n",
       "1978-09-26    1500.0\n",
       "1978-09-27    1590.0\n",
       "1978-09-28    1500.0\n",
       "1978-09-29    1420.0\n",
       "\n",
       "[10499 rows x 1 columns]"
      ]
     },
     "execution_count": 52,
     "metadata": {},
     "output_type": "execute_result"
    }
   ],
   "source": [
    "df"
   ]
  },
  {
   "cell_type": "markdown",
   "metadata": {},
   "source": [
    "# 3. Site-specific data analysis\n",
    "\n",
    "## 3.1. Frequently used packages\n",
    "* [NumPy](https://numpy.org/) (Deal with **Array**)\n",
    "    * Fundamental package for scientific computing\n",
    "    * All following packages depends on Numpy\n",
    "* [Pandas](https://pandas.pydata.org/) (Deal with **DataFrame**)\n",
    "* [SciPy](https://www.scipy.org/) \n",
    "    * Built on NumPy, and matplotlib\n",
    "* [Scikit Learn](https://scikit-learn.org/stable/)\n",
    "    * Built on NumPy, SciPy, and matplotlib\n",
    "    * Simple and efficient tools for predictive data analysis\n",
    "        * Claassification, Regression, Clustering...\n",
    "* ...\n"
   ]
  },
  {
   "cell_type": "code",
   "execution_count": null,
   "metadata": {},
   "outputs": [],
   "source": []
  }
 ],
 "metadata": {
  "kernelspec": {
   "display_name": "whwtimeseries",
   "language": "python",
   "name": "whwtimeseries"
  },
  "language_info": {
   "codemirror_mode": {
    "name": "ipython",
    "version": 3
   },
   "file_extension": ".py",
   "mimetype": "text/x-python",
   "name": "python",
   "nbconvert_exporter": "python",
   "pygments_lexer": "ipython3",
   "version": "3.6.7"
  }
 },
 "nbformat": 4,
 "nbformat_minor": 4
}
