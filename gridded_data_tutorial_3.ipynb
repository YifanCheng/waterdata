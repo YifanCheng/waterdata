{
 "cells": [
  {
   "cell_type": "markdown",
   "metadata": {},
   "source": [
    "# gridded_data_tutorial\n",
    "## Notebook 3\n",
    "Waterhackweek 2020\n",
    "Steven Pestana (spestana@uw.edu)\n",
    "***"
   ]
  },
  {
   "cell_type": "markdown",
   "metadata": {},
   "source": [
    "### Study Case:\n",
    "\n",
    "We want to look at precipitation data from DayMet for the Yakima watershed.\n",
    "\n",
    "Also, I'm interested in snow too, so we'll look at that too.\n",
    "\n",
    "### Research question:\n",
    "\n",
    "Have the seasonal and inter-annual patterns of precipitation (and snow accumulaiton) in the Yakima watershed changed in recent years?"
   ]
  },
  {
   "cell_type": "markdown",
   "metadata": {},
   "source": [
    "### Where is the Yakima watershed?\n",
    "\n",
    "map figure"
   ]
  },
  {
   "cell_type": "markdown",
   "metadata": {},
   "source": [
    "---\n",
    "## Geospatial Raster Data and NetCDFs\n",
    "\n",
    "Raster data is stored as a grid of values (hence it is also called \"gridded\" data). These can be visualized as pixels in a 2-dimensional image, where the color or brightness of each pixel represents the data value. \n",
    "\n",
    "Geospatial raster data represents scalar or categorical data distributed across Earth's surface, such as topography or land-use/landcover map. To make a raster \"geospatial\" it needs metadata that relates each pixel to a location on Earth's surface. **Coordinate reference systems** (CRS) specify the datum, projection, and other information to translate the raster pixel coordinates to locations on Earth. More details on coordinate reference systems can be found [here](https://datacarpentry.org/organization-geospatial/03-crs/index.html).\n",
    "\n",
    "*raster example figures for scalar or categorical data*\n",
    "\n",
    "Examples of raster data formats:\n",
    "* geotiff ...\n",
    "* HDF ...\n",
    "* GRIB ...\n",
    "* NetCDF ...\n",
    "\n",
    "File formats such as [NetCDF](https://www.unidata.ucar.edu/software/netcdf/docs/) combine multi-dimensional data sets along with their metadata in a single file. "
   ]
  },
  {
   "cell_type": "markdown",
   "metadata": {},
   "source": [
    "---\n",
    "## What is DayMet?\n",
    "\n",
    "introduction to the dataset we'll be using\n",
    "\n"
   ]
  },
  {
   "cell_type": "markdown",
   "metadata": {},
   "source": [
    "### How can we access this data? \n",
    "\n",
    "using OPeNDAP\n",
    "\n",
    "* show how to search and select DayMet data using the OPeNDAP endpoint"
   ]
  },
  {
   "cell_type": "code",
   "execution_count": null,
   "metadata": {},
   "outputs": [],
   "source": [
    "import xarray as xr"
   ]
  },
  {
   "cell_type": "code",
   "execution_count": null,
   "metadata": {},
   "outputs": [],
   "source": []
  },
  {
   "cell_type": "markdown",
   "metadata": {},
   "source": [
    "OPeNDAP endpoints for DayMet:\n",
    "\n",
    "what data can we get and how do we select it?"
   ]
  },
  {
   "cell_type": "code",
   "execution_count": null,
   "metadata": {},
   "outputs": [],
   "source": [
    "ds = xr.open_dataset(\"https://thredds.daac.ornl.gov/thredds/dodsC/daymet-v3-agg/na.ncml\")"
   ]
  },
  {
   "cell_type": "markdown",
   "metadata": {},
   "source": [
    "What did we just open with xarray? Look at the dataset's structure and metadata:\n",
    "\n",
    "We have *Dimensions* of **time**, **x**, and **y**; *Coordinates* of **time**, **x**, **y**, **lat**, and **lon**.\n",
    "\n"
   ]
  },
  {
   "cell_type": "code",
   "execution_count": null,
   "metadata": {},
   "outputs": [],
   "source": [
    "ds"
   ]
  },
  {
   "cell_type": "markdown",
   "metadata": {},
   "source": [
    "### Data selecting/slicing/indexing methods\n",
    "\n",
    "* define some lat/lon bounding boxes\n",
    "* define some time bounds\n",
    "\n",
    "To select a smaller area to work with, we can use the [*xarray.Dataset.isel*](https://xarray.pydata.org/en/stable/generated/xarray.Dataset.isel.html) method. "
   ]
  },
  {
   "cell_type": "code",
   "execution_count": null,
   "metadata": {},
   "outputs": [],
   "source": [
    "testdata_srad = ds.srad.isel(time=100, x=slice(1000,3000), y=slice(1000,3000))"
   ]
  },
  {
   "cell_type": "code",
   "execution_count": null,
   "metadata": {},
   "outputs": [],
   "source": [
    "testdata_srad.plot()"
   ]
  },
  {
   "cell_type": "code",
   "execution_count": null,
   "metadata": {},
   "outputs": [],
   "source": [
    "testdata_srad.plot(x='lon', y='lat')"
   ]
  },
  {
   "cell_type": "code",
   "execution_count": null,
   "metadata": {},
   "outputs": [],
   "source": []
  },
  {
   "cell_type": "code",
   "execution_count": null,
   "metadata": {},
   "outputs": [],
   "source": []
  },
  {
   "cell_type": "code",
   "execution_count": null,
   "metadata": {},
   "outputs": [],
   "source": []
  },
  {
   "cell_type": "code",
   "execution_count": null,
   "metadata": {},
   "outputs": [],
   "source": [
    "# yay! we now know how to access this data source"
   ]
  },
  {
   "cell_type": "markdown",
   "metadata": {},
   "source": [
    "Look at the metadata of what DayMet gives us\n",
    "\n",
    "* introducing some new stuff using xarray"
   ]
  },
  {
   "cell_type": "code",
   "execution_count": null,
   "metadata": {},
   "outputs": [],
   "source": [
    "# yay! we now know what the data structure is and what the metadata tells us"
   ]
  },
  {
   "cell_type": "code",
   "execution_count": null,
   "metadata": {},
   "outputs": [],
   "source": []
  },
  {
   "cell_type": "markdown",
   "metadata": {},
   "source": [
    "Try making some plots with this data now showing xarray plotting functions, cartopy"
   ]
  },
  {
   "cell_type": "code",
   "execution_count": null,
   "metadata": {},
   "outputs": [],
   "source": [
    "# yay! we made some plots"
   ]
  },
  {
   "cell_type": "markdown",
   "metadata": {},
   "source": [
    "Next section we'll use ulmo, xarray to answer our **research question**"
   ]
  },
  {
   "cell_type": "code",
   "execution_count": null,
   "metadata": {},
   "outputs": [],
   "source": []
  }
 ],
 "metadata": {
  "kernelspec": {
   "display_name": "whwwaterdata",
   "language": "python",
   "name": "whwwaterdata"
  },
  "language_info": {
   "codemirror_mode": {
    "name": "ipython",
    "version": 3
   },
   "file_extension": ".py",
   "mimetype": "text/x-python",
   "name": "python",
   "nbconvert_exporter": "python",
   "pygments_lexer": "ipython3",
   "version": "3.6.7"
  }
 },
 "nbformat": 4,
 "nbformat_minor": 4
}
