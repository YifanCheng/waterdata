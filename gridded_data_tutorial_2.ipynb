{
 "cells": [
  {
   "cell_type": "markdown",
   "metadata": {},
   "source": [
    "# gridded_data_tutorial\n",
    "## Notebook 2\n",
    "Waterhackweek 2020\n",
    "Steven Pestana (spestana@uw.edu)\n",
    "***"
   ]
  },
  {
   "cell_type": "markdown",
   "metadata": {},
   "source": [
    "### xarray\n",
    "\n",
    "The [xarray](https://xarray.pydata.org/) library allows us to read, manipulate, and create **labeled** multi-dimensional arrays and datasets, such as NetCDF files.\n",
    "\n"
   ]
  },
  {
   "cell_type": "code",
   "execution_count": 53,
   "metadata": {},
   "outputs": [],
   "source": [
    "import xarray as xr"
   ]
  },
  {
   "cell_type": "markdown",
   "metadata": {},
   "source": [
    "---\n",
    "#### DataArrays\n",
    "Similar to the `numpy.ndarray` object, the `xarray.DataArray` is a multi-dimensional array, with the addition of labeled dimensions, coordinates, and other metadata. A DataArray contains the following: \n",
    "* `values` which store the actual data values in a `numpy.ndarray`\n",
    "* `dims` are the names for each dimension of the `values` array\n",
    "* `coords` are arrays of labels for each point\n",
    "* `attrs` is a [dictionary](https://docs.python.org/3/tutorial/datastructures.html#dictionaries) that can contain additional metadata\n",
    "\n",
    "Let's create some fake streamflow data for two locations to see how these different parts work together to form a DataArray.\n",
    "(I'm going to use a NumPy function to generate some random numbers that are [normally distributed]((https://numpy.org/devdocs/reference/random/generated/numpy.random.normal.html)))"
   ]
  },
  {
   "cell_type": "code",
   "execution_count": 36,
   "metadata": {},
   "outputs": [],
   "source": [
    "import numpy as np\n",
    "import pandas as pd"
   ]
  },
  {
   "cell_type": "code",
   "execution_count": 50,
   "metadata": {},
   "outputs": [],
   "source": [
    "# randomly generated annual peak streamflow data for three locations\n",
    "means = [1000, 1400, 900]\n",
    "standard_deviations = [75, 25, 50] \n",
    "samples = (100, 3)\n",
    "peak_flows = np.random.normal(means, standard_deviations, samples)"
   ]
  },
  {
   "cell_type": "markdown",
   "metadata": {},
   "source": [
    "`peak_flows` will be the `values` within the DataArray. It is a two-dimensional array, and we've given it a shape of 100x3. The two dimensions will need names (`dims`) and labels (`coords`):"
   ]
  },
  {
   "cell_type": "code",
   "execution_count": 51,
   "metadata": {},
   "outputs": [],
   "source": [
    "# We can call our two dimensions time, and location corresponding to the dimensions with lengths 100 and 3 respectively\n",
    "dimensions = ['time', 'location']\n",
    "\n",
    "# We can create coordinates for each of these dimensions now, first starting with 100 years\n",
    "times = pd.date_range('1920', periods=100, freq ='1Y')\n",
    "\n",
    "# Now create the 3 location coordinates\n",
    "locations = ['stream_gage_1', 'stream_gage_2', 'stream_gage_3']"
   ]
  },
  {
   "cell_type": "markdown",
   "metadata": {},
   "source": [
    "Finally we can add additional metadata with a dictionary of attributes"
   ]
  },
  {
   "cell_type": "code",
   "execution_count": 55,
   "metadata": {},
   "outputs": [],
   "source": [
    "metadata = {'units': 'cfs'}"
   ]
  },
  {
   "cell_type": "markdown",
   "metadata": {},
   "source": [
    "Now that we have all the individual components of an xarray DataArray, we can create it"
   ]
  },
  {
   "cell_type": "code",
   "execution_count": 56,
   "metadata": {},
   "outputs": [],
   "source": [
    "streamflows = xr.DataArray( peak_flows, coords=[times, locations], dims=dimensions, attrs=metadata)"
   ]
  },
  {
   "cell_type": "code",
   "execution_count": 58,
   "metadata": {},
   "outputs": [
    {
     "name": "stdout",
     "output_type": "stream",
     "text": [
      "<xarray.DataArray (time: 100, location: 3)>\n",
      "array([[ 952.0906023 , 1431.06694294,  860.645647  ],\n",
      "       [1021.89999011, 1370.85189963,  876.60173413],\n",
      "       [1040.87680834, 1414.85241515,  894.03937292],\n",
      "       [1031.58207913, 1395.1267001 ,  881.55772242],\n",
      "       [ 807.59039052, 1380.09095905,  858.24817032],\n",
      "       [ 997.85024057, 1387.96246905,  885.58570992],\n",
      "       [1000.57896021, 1408.84022835,  950.00658203],\n",
      "       [1077.16044773, 1409.30821636,  883.09317131],\n",
      "       [1070.75946152, 1436.5050066 ,  888.89508896],\n",
      "       [ 980.30864045, 1420.09782757,  879.12252561],\n",
      "       [1023.67151065, 1382.50206716,  944.88053445],\n",
      "       [ 974.92032132, 1393.17320554,  928.04696054],\n",
      "       [ 950.65899954, 1431.23660939,  863.91453737],\n",
      "       [1024.17277381, 1375.73180637,  957.19394685],\n",
      "       [ 764.68262668, 1381.81182503,  871.21660707],\n",
      "       [ 974.15475533, 1350.93266743,  931.60726393],\n",
      "       [1089.73269916, 1364.04745516,  854.12311412],\n",
      "       [1104.34783729, 1408.20070284,  906.10459109],\n",
      "       [ 931.02388221, 1411.58995747,  862.95193884],\n",
      "       [1055.74292473, 1371.75491679,  933.30037076],\n",
      "       [ 961.25291376, 1408.41225394,  751.72056574],\n",
      "       [ 980.5920308 , 1408.20864704,  834.95269349],\n",
      "       [ 919.5208156 , 1415.94994024,  892.87574144],\n",
      "       [1043.89768376, 1426.96804938,  848.19311727],\n",
      "       [1113.01535298, 1379.8315954 ,  860.81557814],\n",
      "       [1096.48197933, 1429.04489694,  944.32780132],\n",
      "       [ 941.99981348, 1440.65695278,  904.0895987 ],\n",
      "       [ 854.56726345, 1363.60042121,  890.61821041],\n",
      "       [ 917.66191034, 1408.07648918,  895.43746394],\n",
      "       [1079.54049891, 1415.47977964,  948.26124186],\n",
      "       [ 981.10959202, 1397.77669259,  763.71644167],\n",
      "       [1040.69945782, 1388.64703664,  963.16189251],\n",
      "       [1082.57355323, 1418.4762213 ,  884.13254404],\n",
      "       [1031.87831329, 1369.97881008,  906.55551819],\n",
      "       [1080.30914921, 1407.29112398,  947.93880521],\n",
      "       [1124.3908092 , 1404.66392058,  924.07443819],\n",
      "       [ 791.82790357, 1397.81835155,  814.35550877],\n",
      "       [ 959.40862649, 1405.60832539,  837.73339971],\n",
      "       [ 944.73053689, 1378.99197595,  844.90169281],\n",
      "       [1029.2891817 , 1429.46832985,  881.0195883 ],\n",
      "       [1124.9091567 , 1383.09416323, 1021.30154383],\n",
      "       [ 864.57629937, 1346.91917564,  916.60626746],\n",
      "       [ 950.23064083, 1406.13434156,  923.97535866],\n",
      "       [1093.18159682, 1356.53216898,  918.67873266],\n",
      "       [ 952.67072052, 1431.30900544,  970.68731347],\n",
      "       [ 981.58334   , 1388.87618841,  951.63675876],\n",
      "       [1099.36666665, 1430.88490439,  924.07792976],\n",
      "       [1085.89257702, 1417.00721747,  874.02444456],\n",
      "       [ 987.95011256, 1421.2162026 ,  900.76276394],\n",
      "       [ 942.93120107, 1389.46645853,  789.57119028],\n",
      "       [ 854.21847986, 1459.10455437,  977.71494539],\n",
      "       [ 952.16449823, 1410.02758373,  899.70452326],\n",
      "       [1039.41888679, 1381.859811  ,  822.06935765],\n",
      "       [ 980.79278233, 1407.28864512,  852.73120666],\n",
      "       [ 950.94342703, 1410.00337165,  786.26526721],\n",
      "       [1006.52335408, 1413.53836349,  934.31256581],\n",
      "       [ 995.74942917, 1437.32269943,  897.54343854],\n",
      "       [1025.30814361, 1402.53540695,  917.26536362],\n",
      "       [1088.75894356, 1434.67642763,  940.85838499],\n",
      "       [1022.17964381, 1396.71657105,  978.23296456],\n",
      "       [ 978.24739924, 1385.13523961, 1025.22308026],\n",
      "       [1201.63392917, 1406.59575013,  859.55222332],\n",
      "       [ 944.70985345, 1386.93240302,  825.6804837 ],\n",
      "       [ 958.01080761, 1402.54701331,  904.0521255 ],\n",
      "       [ 942.70326936, 1451.71189402,  883.46418813],\n",
      "       [ 827.99699454, 1358.6211777 ,  821.06479   ],\n",
      "       [ 971.34192856, 1394.17741725,  886.5837857 ],\n",
      "       [ 910.26026923, 1391.66041006,  942.35365089],\n",
      "       [ 922.31722897, 1371.3332364 ,  860.66537869],\n",
      "       [1055.65882315, 1387.79308882,  881.12206214],\n",
      "       [ 999.15270759, 1420.63969844,  868.7242279 ],\n",
      "       [1011.52184965, 1364.7131076 ,  817.71461916],\n",
      "       [ 917.44921879, 1438.83249856,  945.10881771],\n",
      "       [ 962.43221474, 1399.70030629,  868.42057355],\n",
      "       [ 877.63331217, 1367.21039253,  949.62068355],\n",
      "       [1083.85992106, 1403.92893383,  905.31100265],\n",
      "       [1072.68249511, 1437.35447756,  927.20539187],\n",
      "       [ 976.5336618 , 1373.42780902,  865.09228368],\n",
      "       [ 911.13362585, 1410.36873632,  846.07301419],\n",
      "       [1012.88747856, 1414.98122494,  911.74750305],\n",
      "       [1085.63546654, 1390.19638332,  887.34272011],\n",
      "       [1065.40965513, 1408.35496441,  826.51874248],\n",
      "       [1062.62595134, 1397.33958048,  929.77979372],\n",
      "       [ 973.26203908, 1457.7810993 ,  871.30098413],\n",
      "       [1004.78536943, 1385.74786299,  923.97481971],\n",
      "       [ 888.47516669, 1361.95801491,  853.74470477],\n",
      "       [ 971.96464896, 1414.20218317,  898.39349553],\n",
      "       [1020.39035713, 1367.84909992,  910.8671241 ],\n",
      "       [1091.97245786, 1405.34940339,  757.95679862],\n",
      "       [ 828.51653863, 1402.9681359 ,  880.50080525],\n",
      "       [ 969.67231695, 1409.9892605 ,  966.43798362],\n",
      "       [ 866.38892444, 1368.998856  ,  859.35803921],\n",
      "       [ 902.37647084, 1404.62292175,  920.65948763],\n",
      "       [1005.55997188, 1361.99540055,  888.17765026],\n",
      "       [ 979.54406591, 1444.22198309,  949.64262352],\n",
      "       [1009.0266211 , 1386.65552675,  919.37241822],\n",
      "       [ 930.17721737, 1428.37488036,  911.15978784],\n",
      "       [ 903.07183388, 1345.26150182,  899.3614974 ],\n",
      "       [1001.31395198, 1365.8653188 ,  851.3813118 ],\n",
      "       [ 821.19473107, 1377.38164978,  836.12146265]])\n",
      "Coordinates:\n",
      "  * time      (time) datetime64[ns] 1920-12-31 1921-12-31 ... 2019-12-31\n",
      "  * location  (location) <U13 'stream_gage_1' 'stream_gage_2' 'stream_gage_3'\n",
      "Attributes:\n",
      "    units:    cfs\n"
     ]
    }
   ],
   "source": [
    "print(streamflows)"
   ]
  },
  {
   "cell_type": "markdown",
   "metadata": {},
   "source": [
    "---\n",
    "#### Datasets\n",
    "\n",
    "Create another DataArray with annual min/max water temperature...\n",
    "\n",
    "Then combine and create a Dataset"
   ]
  },
  {
   "cell_type": "code",
   "execution_count": null,
   "metadata": {},
   "outputs": [],
   "source": []
  },
  {
   "cell_type": "code",
   "execution_count": null,
   "metadata": {},
   "outputs": [],
   "source": []
  },
  {
   "cell_type": "code",
   "execution_count": null,
   "metadata": {},
   "outputs": [],
   "source": []
  },
  {
   "cell_type": "code",
   "execution_count": null,
   "metadata": {},
   "outputs": [],
   "source": []
  },
  {
   "cell_type": "code",
   "execution_count": null,
   "metadata": {},
   "outputs": [],
   "source": []
  },
  {
   "cell_type": "markdown",
   "metadata": {},
   "source": [
    "Plot the fake data we just made"
   ]
  },
  {
   "cell_type": "code",
   "execution_count": null,
   "metadata": {},
   "outputs": [],
   "source": []
  }
 ],
 "metadata": {
  "kernelspec": {
   "display_name": "whwwaterdata",
   "language": "python",
   "name": "whwwaterdata"
  },
  "language_info": {
   "codemirror_mode": {
    "name": "ipython",
    "version": 3
   },
   "file_extension": ".py",
   "mimetype": "text/x-python",
   "name": "python",
   "nbconvert_exporter": "python",
   "pygments_lexer": "ipython3",
   "version": "3.6.7"
  }
 },
 "nbformat": 4,
 "nbformat_minor": 2
}
